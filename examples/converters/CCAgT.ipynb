{
 "cells": [
  {
   "cell_type": "code",
   "execution_count": null,
   "metadata": {},
   "outputs": [],
   "source": [
    "import json\n",
    "\n",
    "import pandas as pd\n",
    "\n",
    "from shapely.geometry import Point\n",
    "from shapely.geometry import Polygon\n",
    "\n",
    "from CCAgT_utils.converters.CCAgT import CCAgT_Annotations\n",
    "from CCAgT_utils.converters.CCAgT import CCAgT_Helper"
   ]
  },
  {
   "cell_type": "code",
   "execution_count": null,
   "metadata": {},
   "outputs": [],
   "source": [
    "data = [{'image_name': 'A_xxx', 'geometry': Point(1, 1), 'category_id': 3},\n",
    "        {'image_name': 'A_yyy', 'geometry': Point(10, 10), 'category_id': 3},\n",
    "        {'image_name': 'A_yyy', 'geometry': Polygon([(40, 40), (50, 50), (50, 40)]), 'category_id': 1},\n",
    "        {'image_name': 'B_yyy', 'geometry': Point(10, 10), 'category_id': 3},\n",
    "        {'image_name': 'B_yyy', 'geometry': Point(2000, 2000), 'category_id': 3}]\n",
    "\n",
    "df = pd.DataFrame(data)\n",
    "df"
   ]
  },
  {
   "cell_type": "code",
   "execution_count": null,
   "metadata": {},
   "outputs": [],
   "source": [
    "ccagt_ann = CCAgT_Annotations(df)"
   ]
  },
  {
   "cell_type": "code",
   "execution_count": null,
   "metadata": {},
   "outputs": [],
   "source": [
    "df['slide_id'] = ccagt_ann.get_slide_id()\n",
    "df"
   ]
  },
  {
   "cell_type": "code",
   "execution_count": null,
   "metadata": {},
   "outputs": [],
   "source": [
    "df['geo_type'] = ccagt_ann.geometries_type()\n",
    "df"
   ]
  },
  {
   "cell_type": "code",
   "execution_count": null,
   "metadata": {},
   "outputs": [],
   "source": [
    "sat_series = df.loc[(df['category_id']==3) & (df['geo_type']=='Point'), 'geometry']\n",
    "\n",
    "df.loc[(df['category_id']==3) & (df['geo_type']=='Point'), 'geometry'] = ccagt_ann.satellite_point_to_polygon(sat_series)\n",
    "\n",
    "df['geo_type'] = ccagt_ann.geometries_type()\n",
    "\n",
    "df"
   ]
  },
  {
   "cell_type": "code",
   "execution_count": null,
   "metadata": {},
   "outputs": [],
   "source": [
    "df['geometry'] = ccagt_ann.fit_geometries_to_image_boundary()\n",
    "df"
   ]
  },
  {
   "cell_type": "code",
   "execution_count": null,
   "metadata": {},
   "outputs": [],
   "source": [
    "df.dropna(axis=0, subset=['geometry'], inplace=True)\n"
   ]
  },
  {
   "cell_type": "code",
   "execution_count": null,
   "metadata": {},
   "outputs": [],
   "source": [
    "df['area'] = ccagt_ann.geometries_area()\n",
    "df"
   ]
  },
  {
   "cell_type": "code",
   "execution_count": null,
   "metadata": {},
   "outputs": [],
   "source": [
    "df['image_id'] = ccagt_ann.generate_ids(df['image_name'])\n",
    "df"
   ]
  },
  {
   "cell_type": "code",
   "execution_count": null,
   "metadata": {},
   "outputs": [],
   "source": [
    "ccagt_ann.df"
   ]
  },
  {
   "cell_type": "code",
   "execution_count": null,
   "metadata": {},
   "outputs": [],
   "source": [
    "helper_path = '../../data/samples/categories_helper.json'\n",
    "with open(helper_path, 'r') as hf:\n",
    "    categories_helpper = json.load(hf)\n",
    "\n",
    "categories_helpper[0], len(categories_helpper)\n"
   ]
  },
  {
   "cell_type": "code",
   "execution_count": null,
   "metadata": {},
   "outputs": [],
   "source": [
    "ccagt_helper = CCAgT_Helper(categories_helpper)"
   ]
  },
  {
   "cell_type": "code",
   "execution_count": null,
   "metadata": {},
   "outputs": [],
   "source": [
    "ccagt_helper.name_by_category_id"
   ]
  },
  {
   "cell_type": "code",
   "execution_count": null,
   "metadata": {},
   "outputs": [],
   "source": [
    "df = ccagt_ann.delete_by_area(ccagt_helper, ignore_categories={3})\n",
    "df"
   ]
  }
 ],
 "metadata": {
  "interpreter": {
   "hash": "ade30b05c72f7c36a999907a79064a65f7301720500609cb06709eebe16f79c1"
  },
  "kernelspec": {
   "display_name": "Python 3.7.12 ('venv': venv)",
   "language": "python",
   "name": "python3"
  },
  "language_info": {
   "codemirror_mode": {
    "name": "ipython",
    "version": 3
   },
   "file_extension": ".py",
   "mimetype": "text/x-python",
   "name": "python",
   "nbconvert_exporter": "python",
   "pygments_lexer": "ipython3",
   "version": "3.7.12"
  },
  "orig_nbformat": 4
 },
 "nbformat": 4,
 "nbformat_minor": 2
}
