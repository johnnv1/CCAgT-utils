{
 "cells": [
  {
   "cell_type": "markdown",
   "metadata": {},
   "source": [
    "# Describe a batch of image files"
   ]
  },
  {
   "cell_type": "code",
   "execution_count": 1,
   "metadata": {},
   "outputs": [],
   "source": [
    "from CCAgT_utils.describe import from_image_files"
   ]
  },
  {
   "cell_type": "code",
   "execution_count": 2,
   "metadata": {},
   "outputs": [],
   "source": [
    "images_path = '../data/samples/images/'"
   ]
  },
  {
   "cell_type": "code",
   "execution_count": 3,
   "metadata": {},
   "outputs": [
    {
     "name": "stdout",
     "output_type": "stream",
     "text": [
      "Start compute Statistics for 7 (.jpg) files using 12 cores with 1 files per core...\n",
      "Successfully computed the statstics of 7 files with 7 processes!\n"
     ]
    },
    {
     "data": {
      "text/plain": [
       "Statistics(mean=array([199.31164002, 190.76794845, 181.51688419]), std=array([19.99266465, 25.420035  , 28.62460663]), max=array([245, 246, 244], dtype=uint8), min=array([12,  7,  3], dtype=uint8), count=7)"
      ]
     },
     "execution_count": 3,
     "metadata": {},
     "output_type": "execute_result"
    }
   ],
   "source": [
    "stats = from_image_files(images_path, extensions=('.jpg'), selection={})\n",
    "\n",
    "stats"
   ]
  },
  {
   "cell_type": "code",
   "execution_count": 4,
   "metadata": {},
   "outputs": [
    {
     "data": {
      "text/plain": [
       "'The mean of the images files for each channel (BGR) -> [199.31164002 190.76794845 181.51688419]'"
      ]
     },
     "execution_count": 4,
     "metadata": {},
     "output_type": "execute_result"
    }
   ],
   "source": [
    "f'The mean of the images files for each channel (BGR) -> {stats.mean}'"
   ]
  },
  {
   "cell_type": "code",
   "execution_count": 5,
   "metadata": {},
   "outputs": [
    {
     "data": {
      "text/plain": [
       "'The standard deviation of the images files for each channel (BGR) -> [19.99266465 25.420035   28.62460663]'"
      ]
     },
     "execution_count": 5,
     "metadata": {},
     "output_type": "execute_result"
    }
   ],
   "source": [
    "f'The standard deviation of the images files for each channel (BGR) -> {stats.std}'"
   ]
  },
  {
   "cell_type": "code",
   "execution_count": 6,
   "metadata": {},
   "outputs": [
    {
     "data": {
      "text/plain": [
       "'The max for each channel (BGR) of the images files -> [245 246 244]'"
      ]
     },
     "execution_count": 6,
     "metadata": {},
     "output_type": "execute_result"
    }
   ],
   "source": [
    "f'The max for each channel (BGR) of the images files -> {stats.max}'"
   ]
  },
  {
   "cell_type": "code",
   "execution_count": 7,
   "metadata": {},
   "outputs": [
    {
     "data": {
      "text/plain": [
       "'The min for each channel (BGR) of the images files -> [12  7  3]'"
      ]
     },
     "execution_count": 7,
     "metadata": {},
     "output_type": "execute_result"
    }
   ],
   "source": [
    "f'The min for each channel (BGR) of the images files -> {stats.min}'"
   ]
  },
  {
   "cell_type": "markdown",
   "metadata": {},
   "source": [
    "# Describe a batch of mask files\n",
    "\n",
    "This function will count the quantity of pixels of each category"
   ]
  },
  {
   "cell_type": "code",
   "execution_count": 8,
   "metadata": {},
   "outputs": [],
   "source": [
    "from CCAgT_utils.describe import from_mask_files"
   ]
  },
  {
   "cell_type": "code",
   "execution_count": 9,
   "metadata": {},
   "outputs": [],
   "source": [
    "masks_path = '../data/samples/masks/semantic_segmentation/'"
   ]
  },
  {
   "cell_type": "code",
   "execution_count": 10,
   "metadata": {},
   "outputs": [
    {
     "name": "stdout",
     "output_type": "stream",
     "text": [
      "Start count pixels quantity for 7 (.png) files using 12 cores with 1 files per core...\n",
      "Successfully computed pixels quantity of each category from 7 files with 7 processes!\n"
     ]
    },
    {
     "data": {
      "text/plain": [
       "{'BACKGROUND': 13072810,\n",
       " 'NUCLEUS': 185178,\n",
       " 'CLUSTER': 10099,\n",
       " 'SATELLITE': 2576,\n",
       " 'NUCLEUS_OUT_OF_FOCUS': 60111,\n",
       " 'OVERLAPPED_NUCLEI': 58988,\n",
       " 'NON_VIABLE_NUCLEUS': 34393,\n",
       " 'LEUKOCYTE_NUCLEUS': 15845}"
      ]
     },
     "execution_count": 10,
     "metadata": {},
     "output_type": "execute_result"
    }
   ],
   "source": [
    "stats = from_mask_files(masks_path, extensions=('.png'), selection={})\n",
    "\n",
    "stats"
   ]
  }
 ],
 "metadata": {
  "kernelspec": {
   "display_name": "Python 3.8.10 ('venv': venv)",
   "language": "python",
   "name": "python3"
  },
  "language_info": {
   "codemirror_mode": {
    "name": "ipython",
    "version": 3
   },
   "file_extension": ".py",
   "mimetype": "text/x-python",
   "name": "python",
   "nbconvert_exporter": "python",
   "pygments_lexer": "ipython3",
   "version": "3.8.10"
  },
  "orig_nbformat": 4,
  "vscode": {
   "interpreter": {
    "hash": "d6ff2b2ad5626cb7c7713c4b2e9a8c3517ced5d1938a2242ad37434e17f54607"
   }
  }
 },
 "nbformat": 4,
 "nbformat_minor": 2
}
