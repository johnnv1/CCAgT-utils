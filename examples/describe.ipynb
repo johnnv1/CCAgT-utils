{
 "cells": [
  {
   "cell_type": "markdown",
   "metadata": {},
   "source": [
    "# Describe a batch of image files"
   ]
  },
  {
   "cell_type": "code",
   "execution_count": 1,
   "metadata": {},
   "outputs": [],
   "source": [
    "from CCAgT_utils.describe import from_image_files"
   ]
  },
  {
   "cell_type": "code",
   "execution_count": 2,
   "metadata": {},
   "outputs": [],
   "source": [
    "images_path = '../data/samples/images/'"
   ]
  },
  {
   "cell_type": "code",
   "execution_count": 3,
   "metadata": {},
   "outputs": [
    {
     "name": "stdout",
     "output_type": "stream",
     "text": [
      "Start compute Statistics for 7 (.jpg) files using 12 cores with 1 files per core...\n",
      "Successfully computed the statstics of 7 files with 7 processes!\n"
     ]
    },
    {
     "data": {
      "text/plain": [
       "Statistics(mean=array([199.31164002, 190.76794845, 181.51688419]), std=array([19.99266465, 25.420035  , 28.62460663]), max=array([245, 246, 244], dtype=uint8), min=array([12,  7,  3], dtype=uint8), count=7)"
      ]
     },
     "execution_count": 3,
     "metadata": {},
     "output_type": "execute_result"
    }
   ],
   "source": [
    "stats = from_image_files(images_path, extensions=('.jpg'), selection={})\n",
    "\n",
    "stats"
   ]
  },
  {
   "cell_type": "code",
   "execution_count": 4,
   "metadata": {},
   "outputs": [
    {
     "data": {
      "text/plain": [
       "'The mean of the images files for each channel (BGR) -> [199.31164002 190.76794845 181.51688419]'"
      ]
     },
     "execution_count": 4,
     "metadata": {},
     "output_type": "execute_result"
    }
   ],
   "source": [
    "f'The mean of the images files for each channel (BGR) -> {stats.mean}'"
   ]
  },
  {
   "cell_type": "code",
   "execution_count": 5,
   "metadata": {},
   "outputs": [
    {
     "data": {
      "text/plain": [
       "'The standard deviation of the images files for each channel (BGR) -> [19.99266465 25.420035   28.62460663]'"
      ]
     },
     "execution_count": 5,
     "metadata": {},
     "output_type": "execute_result"
    }
   ],
   "source": [
    "f'The standard deviation of the images files for each channel (BGR) -> {stats.std}'"
   ]
  },
  {
   "cell_type": "code",
   "execution_count": 6,
   "metadata": {},
   "outputs": [
    {
     "data": {
      "text/plain": [
       "'The max for each channel (BGR) of the images files -> [245 246 244]'"
      ]
     },
     "execution_count": 6,
     "metadata": {},
     "output_type": "execute_result"
    }
   ],
   "source": [
    "f'The max for each channel (BGR) of the images files -> {stats.max}'"
   ]
  },
  {
   "cell_type": "code",
   "execution_count": 7,
   "metadata": {},
   "outputs": [
    {
     "data": {
      "text/plain": [
       "'The min for each channel (BGR) of the images files -> [12  7  3]'"
      ]
     },
     "execution_count": 7,
     "metadata": {},
     "output_type": "execute_result"
    }
   ],
   "source": [
    "f'The min for each channel (BGR) of the images files -> {stats.min}'"
   ]
  },
  {
   "cell_type": "markdown",
   "metadata": {},
   "source": [
    "# Describe a batch of mask files\n",
    "\n",
    "This function will count the quantity of pixels of each category"
   ]
  },
  {
   "cell_type": "code",
   "execution_count": 8,
   "metadata": {},
   "outputs": [],
   "source": [
    "from CCAgT_utils.describe import from_mask_files"
   ]
  },
  {
   "cell_type": "code",
   "execution_count": 9,
   "metadata": {},
   "outputs": [],
   "source": [
    "masks_path = '../data/samples/masks/semantic_segmentation/'"
   ]
  },
  {
   "cell_type": "code",
   "execution_count": 10,
   "metadata": {},
   "outputs": [
    {
     "name": "stdout",
     "output_type": "stream",
     "text": [
      "Start count pixels quantity for 7 (.png) files using 12 cores with 1 files per core...\n",
      "Successfully computed pixels quantity of each category from 7 files with 7 processes!\n"
     ]
    },
    {
     "data": {
      "text/plain": [
       "{'BACKGROUND': 13072810,\n",
       " 'NUCLEUS': 185178,\n",
       " 'CLUSTER': 10099,\n",
       " 'SATELLITE': 2576,\n",
       " 'NUCLEUS_OUT_OF_FOCUS': 60111,\n",
       " 'OVERLAPPED_NUCLEI': 58988,\n",
       " 'NON_VIABLE_NUCLEUS': 34393,\n",
       " 'LEUKOCYTE_NUCLEUS': 15845}"
      ]
     },
     "execution_count": 10,
     "metadata": {},
     "output_type": "execute_result"
    }
   ],
   "source": [
    "stats = from_mask_files(masks_path, extensions=('.png'), selection={})\n",
    "\n",
    "stats"
   ]
  },
  {
   "cell_type": "markdown",
   "metadata": {},
   "source": [
    "# Describe dataset"
   ]
  },
  {
   "cell_type": "code",
   "execution_count": 11,
   "metadata": {},
   "outputs": [],
   "source": [
    "from CCAgT_utils.describe import dataset\n",
    "from CCAgT_utils.categories import CategoriesInfos"
   ]
  },
  {
   "cell_type": "code",
   "execution_count": 12,
   "metadata": {},
   "outputs": [
    {
     "name": "stdout",
     "output_type": "stream",
     "text": [
      "Dataset name: `samples` | Location: `../data/samples/`\n",
      "From the annotations file (../data/samples/out/CCAgT.parquet.gzip) -\n",
      "Quantity of images: 7\n",
      "Quantity of slides: 7\n",
      "Quantity of annotations: 232\n",
      " > Quantity of annotations for BACKGROUND: 0 - 0.00%\n",
      " > Quantity of annotations for NUCLEUS: 52 - 22.41%\n",
      " > Quantity of annotations for CLUSTER: 97 - 41.81%\n",
      " > Quantity of annotations for SATELLITE: 29 - 12.50%\n",
      " > Quantity of annotations for NUCLEUS_OUT_OF_FOCUS: 17 - 7.33%\n",
      " > Quantity of annotations for OVERLAPPED_NUCLEI: 10 - 4.31%\n",
      " > Quantity of annotations for NON_VIABLE_NUCLEUS: 11 - 4.74%\n",
      " > Quantity of annotations for LEUKOCYTE_NUCLEUS: 16 - 6.90%\n",
      "Statistics of the area of each category...\n",
      " > Statistics of area for NUCLEUS: Quantity: 52 | Mean: 3769.60 | std: 1474.29  | Max: 7706.30 | Min: 1773.56\n",
      " > Statistics of area for CLUSTER: Quantity: 97 | Mean: 104.31 | std: 60.63  | Max: 302.30 | Min: 41.57\n",
      " > Statistics of area for SATELLITE: Quantity: 29 | Mean: 87.70 | std: 0.00  | Max: 87.70 | Min: 87.70\n",
      " > Statistics of area for NUCLEUS_OUT_OF_FOCUS: Quantity: 17 | Mean: 3539.39 | std: 1737.06  | Max: 9240.42 | Min: 1772.44\n",
      " > Statistics of area for OVERLAPPED_NUCLEI: Quantity: 10 | Mean: 6245.35 | std: 2810.71  | Max: 11420.09 | Min: 2333.32\n",
      " > Statistics of area for NON_VIABLE_NUCLEUS: Quantity: 11 | Mean: 3126.97 | std: 1612.09  | Max: 6472.14 | Min: 1444.22\n",
      " > Statistics of area for LEUKOCYTE_NUCLEUS: Quantity: 16 | Mean: 991.63 | std: 569.05  | Max: 2677.41 | Min: 353.90\n",
      "On disk data -\n",
      "Total of images: 7 - at `../data/samples/images/`\n",
      "Total of masks: 7 - at `../data/samples/masks/`\n"
     ]
    }
   ],
   "source": [
    "dataset('../data/samples/out/CCAgT.parquet.gzip', CategoriesInfos(), '../data/samples/')"
   ]
  },
  {
   "cell_type": "markdown",
   "metadata": {},
   "source": [
    "# Describe annotations"
   ]
  },
  {
   "cell_type": "code",
   "execution_count": 13,
   "metadata": {},
   "outputs": [],
   "source": [
    "from CCAgT_utils.converters.CCAgT import read_parquet\n",
    "ccagt = read_parquet('../data/samples/out/CCAgT.parquet.gzip')\n",
    "categories_infos =  CategoriesInfos()"
   ]
  },
  {
   "cell_type": "markdown",
   "metadata": {},
   "source": [
    "## all data"
   ]
  },
  {
   "cell_type": "code",
   "execution_count": 14,
   "metadata": {},
   "outputs": [],
   "source": [
    "from CCAgT_utils.describe import ccagt_annotations"
   ]
  },
  {
   "cell_type": "code",
   "execution_count": 15,
   "metadata": {},
   "outputs": [
    {
     "data": {
      "text/plain": [
       "{'qtd_images': 7,\n",
       " 'qtd_slide': 7,\n",
       " 'qtd_annotations': 232,\n",
       " 'qtd_annotations_categorical': {'BACKGROUND': 0,\n",
       "  'NUCLEUS': 52,\n",
       "  'CLUSTER': 97,\n",
       "  'SATELLITE': 29,\n",
       "  'NUCLEUS_OUT_OF_FOCUS': 17,\n",
       "  'OVERLAPPED_NUCLEI': 10,\n",
       "  'NON_VIABLE_NUCLEUS': 11,\n",
       "  'LEUKOCYTE_NUCLEUS': 16},\n",
       " 'dist_annotations': {'BACKGROUND': 0.0,\n",
       "  'NUCLEUS': 0.22413793103448276,\n",
       "  'CLUSTER': 0.41810344827586204,\n",
       "  'SATELLITE': 0.125,\n",
       "  'NUCLEUS_OUT_OF_FOCUS': 0.07327586206896551,\n",
       "  'OVERLAPPED_NUCLEI': 0.04310344827586207,\n",
       "  'NON_VIABLE_NUCLEUS': 0.04741379310344827,\n",
       "  'LEUKOCYTE_NUCLEUS': 0.06896551724137931},\n",
       " 'area_stats': {'NUCLEUS': Statistics(mean=3769.6040769038464, std=1474.2947814174922, max=7706.296875, min=1773.555360500001, count=52),\n",
       "  'CLUSTER': Statistics(mean=104.30553362886599, std=60.628534568400255, max=302.3005000000005, min=41.569958499999856, count=97),\n",
       "  'SATELLITE': Statistics(mean=87.70458225639855, std=4.951839355169788e-13, max=87.70458225639969, min=87.70458225639804, count=29),\n",
       "  'NUCLEUS_OUT_OF_FOCUS': Statistics(mean=3539.391178911764, std=1737.0606713652746, max=9240.4168055, min=1772.4375, count=17),\n",
       "  'OVERLAPPED_NUCLEI': Statistics(mean=6245.353072442868, std=2810.709568129246, max=11420.0929725, min=2333.3240864999993, count=10),\n",
       "  'NON_VIABLE_NUCLEUS': Statistics(mean=3126.9698346363652, std=1612.0925378917275, max=6472.135389000005, min=1444.2216249999994, count=11),\n",
       "  'LEUKOCYTE_NUCLEUS': Statistics(mean=991.6255742499998, std=569.0480354047128, max=2677.4062499999986, min=353.89522250000005, count=16)}}"
      ]
     },
     "execution_count": 15,
     "metadata": {},
     "output_type": "execute_result"
    }
   ],
   "source": [
    "ccagt_annotations(ccagt, categories_infos)"
   ]
  },
  {
   "cell_type": "markdown",
   "metadata": {},
   "source": [
    "## per image"
   ]
  },
  {
   "cell_type": "code",
   "execution_count": 16,
   "metadata": {},
   "outputs": [],
   "source": [
    "from CCAgT_utils.describe import annotations_per_image"
   ]
  },
  {
   "cell_type": "code",
   "execution_count": 17,
   "metadata": {},
   "outputs": [
    {
     "data": {
      "text/html": [
       "<div>\n",
       "<style scoped>\n",
       "    .dataframe tbody tr th:only-of-type {\n",
       "        vertical-align: middle;\n",
       "    }\n",
       "\n",
       "    .dataframe tbody tr th {\n",
       "        vertical-align: top;\n",
       "    }\n",
       "\n",
       "    .dataframe thead tr th {\n",
       "        text-align: left;\n",
       "    }\n",
       "\n",
       "    .dataframe thead tr:last-of-type th {\n",
       "        text-align: right;\n",
       "    }\n",
       "</style>\n",
       "<table border=\"1\" class=\"dataframe\">\n",
       "  <thead>\n",
       "    <tr>\n",
       "      <th></th>\n",
       "      <th colspan=\"7\" halign=\"left\">count</th>\n",
       "      <th>qtd_annotations</th>\n",
       "      <th>NORs</th>\n",
       "    </tr>\n",
       "    <tr>\n",
       "      <th>category_id</th>\n",
       "      <th>NUCLEUS</th>\n",
       "      <th>CLUSTER</th>\n",
       "      <th>SATELLITE</th>\n",
       "      <th>NUCLEUS_OUT_OF_FOCUS</th>\n",
       "      <th>OVERLAPPED_NUCLEI</th>\n",
       "      <th>NON_VIABLE_NUCLEUS</th>\n",
       "      <th>LEUKOCYTE_NUCLEUS</th>\n",
       "      <th></th>\n",
       "      <th></th>\n",
       "    </tr>\n",
       "    <tr>\n",
       "      <th>image_id</th>\n",
       "      <th></th>\n",
       "      <th></th>\n",
       "      <th></th>\n",
       "      <th></th>\n",
       "      <th></th>\n",
       "      <th></th>\n",
       "      <th></th>\n",
       "      <th></th>\n",
       "      <th></th>\n",
       "    </tr>\n",
       "  </thead>\n",
       "  <tbody>\n",
       "    <tr>\n",
       "      <th>1</th>\n",
       "      <td>7.0</td>\n",
       "      <td>11.0</td>\n",
       "      <td>1.0</td>\n",
       "      <td>1.0</td>\n",
       "      <td>0.0</td>\n",
       "      <td>7.0</td>\n",
       "      <td>0.0</td>\n",
       "      <td>27.0</td>\n",
       "      <td>12.0</td>\n",
       "    </tr>\n",
       "    <tr>\n",
       "      <th>2</th>\n",
       "      <td>2.0</td>\n",
       "      <td>2.0</td>\n",
       "      <td>5.0</td>\n",
       "      <td>1.0</td>\n",
       "      <td>0.0</td>\n",
       "      <td>0.0</td>\n",
       "      <td>2.0</td>\n",
       "      <td>12.0</td>\n",
       "      <td>7.0</td>\n",
       "    </tr>\n",
       "    <tr>\n",
       "      <th>3</th>\n",
       "      <td>13.0</td>\n",
       "      <td>26.0</td>\n",
       "      <td>5.0</td>\n",
       "      <td>0.0</td>\n",
       "      <td>2.0</td>\n",
       "      <td>0.0</td>\n",
       "      <td>4.0</td>\n",
       "      <td>50.0</td>\n",
       "      <td>31.0</td>\n",
       "    </tr>\n",
       "    <tr>\n",
       "      <th>4</th>\n",
       "      <td>7.0</td>\n",
       "      <td>14.0</td>\n",
       "      <td>14.0</td>\n",
       "      <td>4.0</td>\n",
       "      <td>4.0</td>\n",
       "      <td>0.0</td>\n",
       "      <td>0.0</td>\n",
       "      <td>43.0</td>\n",
       "      <td>28.0</td>\n",
       "    </tr>\n",
       "    <tr>\n",
       "      <th>5</th>\n",
       "      <td>3.0</td>\n",
       "      <td>3.0</td>\n",
       "      <td>1.0</td>\n",
       "      <td>5.0</td>\n",
       "      <td>1.0</td>\n",
       "      <td>3.0</td>\n",
       "      <td>0.0</td>\n",
       "      <td>16.0</td>\n",
       "      <td>4.0</td>\n",
       "    </tr>\n",
       "    <tr>\n",
       "      <th>6</th>\n",
       "      <td>3.0</td>\n",
       "      <td>2.0</td>\n",
       "      <td>1.0</td>\n",
       "      <td>2.0</td>\n",
       "      <td>0.0</td>\n",
       "      <td>1.0</td>\n",
       "      <td>0.0</td>\n",
       "      <td>9.0</td>\n",
       "      <td>3.0</td>\n",
       "    </tr>\n",
       "    <tr>\n",
       "      <th>7</th>\n",
       "      <td>17.0</td>\n",
       "      <td>39.0</td>\n",
       "      <td>2.0</td>\n",
       "      <td>4.0</td>\n",
       "      <td>3.0</td>\n",
       "      <td>0.0</td>\n",
       "      <td>10.0</td>\n",
       "      <td>75.0</td>\n",
       "      <td>41.0</td>\n",
       "    </tr>\n",
       "  </tbody>\n",
       "</table>\n",
       "</div>"
      ],
      "text/plain": [
       "              count                                                           \\\n",
       "category_id NUCLEUS CLUSTER SATELLITE NUCLEUS_OUT_OF_FOCUS OVERLAPPED_NUCLEI   \n",
       "image_id                                                                       \n",
       "1               7.0    11.0       1.0                  1.0               0.0   \n",
       "2               2.0     2.0       5.0                  1.0               0.0   \n",
       "3              13.0    26.0       5.0                  0.0               2.0   \n",
       "4               7.0    14.0      14.0                  4.0               4.0   \n",
       "5               3.0     3.0       1.0                  5.0               1.0   \n",
       "6               3.0     2.0       1.0                  2.0               0.0   \n",
       "7              17.0    39.0       2.0                  4.0               3.0   \n",
       "\n",
       "                                                 qtd_annotations  NORs  \n",
       "category_id NON_VIABLE_NUCLEUS LEUKOCYTE_NUCLEUS                        \n",
       "image_id                                                                \n",
       "1                          7.0               0.0            27.0  12.0  \n",
       "2                          0.0               2.0            12.0   7.0  \n",
       "3                          0.0               4.0            50.0  31.0  \n",
       "4                          0.0               0.0            43.0  28.0  \n",
       "5                          3.0               0.0            16.0   4.0  \n",
       "6                          1.0               0.0             9.0   3.0  \n",
       "7                          0.0              10.0            75.0  41.0  "
      ]
     },
     "execution_count": 17,
     "metadata": {},
     "output_type": "execute_result"
    }
   ],
   "source": [
    "annotations_per_image(ccagt, categories_infos)"
   ]
  }
 ],
 "metadata": {
  "kernelspec": {
   "display_name": "Python 3.8.10 ('venv': venv)",
   "language": "python",
   "name": "python3"
  },
  "language_info": {
   "codemirror_mode": {
    "name": "ipython",
    "version": 3
   },
   "file_extension": ".py",
   "mimetype": "text/x-python",
   "name": "python",
   "nbconvert_exporter": "python",
   "pygments_lexer": "ipython3",
   "version": "3.8.10"
  },
  "orig_nbformat": 4,
  "vscode": {
   "interpreter": {
    "hash": "d6ff2b2ad5626cb7c7713c4b2e9a8c3517ced5d1938a2242ad37434e17f54607"
   }
  }
 },
 "nbformat": 4,
 "nbformat_minor": 2
}
