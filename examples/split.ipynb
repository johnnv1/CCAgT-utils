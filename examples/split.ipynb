{
 "cells": [
  {
   "cell_type": "markdown",
   "metadata": {},
   "source": [
    "# How to split the data into train/test/validation"
   ]
  },
  {
   "cell_type": "code",
   "execution_count": null,
   "metadata": {},
   "outputs": [],
   "source": [
    "from CCAgT_utils.converters.CCAgT import read_parquet\n",
    "from CCAgT_utils.categories import CategoriesInfos\n",
    "from CCAgT_utils import split"
   ]
  },
  {
   "cell_type": "code",
   "execution_count": null,
   "metadata": {},
   "outputs": [],
   "source": [
    "path_ccagt = '../data/samples/out/CCAgT.parquet.gzip'"
   ]
  },
  {
   "cell_type": "code",
   "execution_count": null,
   "metadata": {},
   "outputs": [],
   "source": [
    "ccagt = read_parquet(path_ccagt)\n",
    "ccagt.df"
   ]
  },
  {
   "cell_type": "code",
   "execution_count": null,
   "metadata": {},
   "outputs": [],
   "source": [
    "train_ids, valid_ids, test_ids = split.tvt_by_nors(ccagt, CategoriesInfos())"
   ]
  },
  {
   "cell_type": "code",
   "execution_count": null,
   "metadata": {},
   "outputs": [],
   "source": [
    "from CCAgT_utils.converters.CCAgT import CCAgT \n",
    "train_ccagt = CCAgT(ccagt.df[ccagt.df['image_id'].isin(train_ids)])\n",
    "valid_ccagt = CCAgT(ccagt.df[ccagt.df['image_id'].isin(valid_ids)])\n",
    "test_ccagt = CCAgT(ccagt.df[ccagt.df['image_id'].isin(test_ids)])"
   ]
  },
  {
   "cell_type": "markdown",
   "metadata": {},
   "source": [
    "# Describe folds "
   ]
  },
  {
   "cell_type": "code",
   "execution_count": null,
   "metadata": {},
   "outputs": [],
   "source": [
    "from CCAgT_utils import describe"
   ]
  },
  {
   "cell_type": "code",
   "execution_count": null,
   "metadata": {},
   "outputs": [],
   "source": [
    "out = {}\n",
    "out['train'] = describe.ccagt_annotations(train_ccagt, CategoriesInfos())\n",
    "out['valid'] = describe.ccagt_annotations(valid_ccagt, CategoriesInfos())\n",
    "out['test'] = describe.ccagt_annotations(test_ccagt, CategoriesInfos())"
   ]
  },
  {
   "cell_type": "code",
   "execution_count": null,
   "metadata": {},
   "outputs": [],
   "source": [
    "df_qtd, df_dist, df_area = describe.tvt_annotations_as_df(**out)"
   ]
  },
  {
   "cell_type": "code",
   "execution_count": null,
   "metadata": {},
   "outputs": [],
   "source": [
    "df_qtd"
   ]
  },
  {
   "cell_type": "code",
   "execution_count": null,
   "metadata": {},
   "outputs": [],
   "source": [
    "df_dist"
   ]
  },
  {
   "cell_type": "code",
   "execution_count": null,
   "metadata": {},
   "outputs": [],
   "source": [
    "df_area"
   ]
  }
 ],
 "metadata": {
  "kernelspec": {
   "display_name": "Python 3.8.10 ('venv': venv)",
   "language": "python",
   "name": "python3"
  },
  "language_info": {
   "codemirror_mode": {
    "name": "ipython",
    "version": 3
   },
   "file_extension": ".py",
   "mimetype": "text/x-python",
   "name": "python",
   "nbconvert_exporter": "python",
   "pygments_lexer": "ipython3",
   "version": "3.8.10"
  },
  "orig_nbformat": 4,
  "vscode": {
   "interpreter": {
    "hash": "d6ff2b2ad5626cb7c7713c4b2e9a8c3517ced5d1938a2242ad37434e17f54607"
   }
  }
 },
 "nbformat": 4,
 "nbformat_minor": 2
}
